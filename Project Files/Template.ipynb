{
 "cells": [
  {
   "cell_type": "code",
   "execution_count": 16,
   "metadata": {},
   "outputs": [],
   "source": [
    "import torch\n",
    "import numpy as np\n",
    "import matplotlib.pyplot as plt\n",
    "from collections import OrderedDict"
   ]
  },
  {
   "cell_type": "markdown",
   "metadata": {},
   "source": [
    "# Entering BVP Details"
   ]
  },
  {
   "cell_type": "code",
   "execution_count": 21,
   "metadata": {},
   "outputs": [],
   "source": [
    "Limits = [0,1]\n",
    "params = [1,2,1,1,1]\n",
    "\n",
    "def Exact(x,params):\n",
    "    E = params[0]\n",
    "    A = params[1]\n",
    "    c = params[2]\n",
    "    P = params[3]\n",
    "    L = params[4]\n",
    "    return (6*P+3*c*L*L - c*x*x)*x*(1/(6*E*A))\n",
    "\n",
    "def P2(x):\n",
    "    return params[0]*params[1]*torch.ones_like(x)\n",
    "\n",
    "def P1(x):\n",
    "    return 0*torch.ones_like(x)\n",
    "\n",
    "def P0(x):\n",
    "    return params[2]*x"
   ]
  },
  {
   "cell_type": "code",
   "execution_count": 22,
   "metadata": {},
   "outputs": [],
   "source": [
    "class NeuNet(torch.nn.Module):\n",
    "    def __init__(self,arr,acti,Dtype):\n",
    "        super(NeuNet,self).__init__()\n",
    "        self.activation = acti # torch.nn.Tanh\n",
    "\n",
    "        layer_list = []\n",
    "        for i in range(len(arr)-1):\n",
    "            layer_list.extend((('layer_%d' % (i), torch.nn.Linear(arr[i], arr[i + 1])), ('activation_%d' % (i), acti())))\n",
    "        #layer_list.append(('layer_%d' % (len(arr)-1), torch.nn.Linear(arr[-2],arr[-1])))\n",
    "        layerDict = OrderedDict(layer_list)\n",
    "\n",
    "        self.layers = torch.nn.Sequential(layerDict).to(dtype=Dtype)\n",
    "    def forward(self,x):\n",
    "        return self.layers(x)\n",
    "\n",
    "def MSE(ten):\n",
    "    return torch.mean(torch.pow(ten,2))"
   ]
  },
  {
   "cell_type": "markdown",
   "metadata": {},
   "source": [
    "# Neural Network and Optimiser Info"
   ]
  },
  {
   "cell_type": "code",
   "execution_count": 23,
   "metadata": {},
   "outputs": [],
   "source": [
    "Dtype = torch.float64\n",
    "NN_arr = [1,5,5,1]\n",
    "Learn_Rate = 0.01\n",
    "Num_Epochs = 10000\n",
    "############################################################\n",
    "Nn = NeuNet(NN_arr,torch.nn.Tanh,Dtype)\n",
    "optimizer = torch.optim.LBFGS(\n",
    "            Nn.parameters(),\n",
    "            lr=Learn_Rate, \n",
    "            max_iter=20, \n",
    "            max_eval=25, \n",
    "            history_size=50,\n",
    "            tolerance_grad=1e-20, \n",
    "            tolerance_change=1e-20,#1.0 * np.finfo(float).eps,\n",
    "            line_search_fn=\"strong_wolfe\"       # can be \"strong_wolfe\"\n",
    "            )"
   ]
  },
  {
   "cell_type": "markdown",
   "metadata": {},
   "source": [
    "# EBC Scheme details"
   ]
  },
  {
   "cell_type": "code",
   "execution_count": null,
   "metadata": {},
   "outputs": [],
   "source": [
    "S = [\"Weighted\",\"Dataset\"]\n",
    "D = [\"BCE\",\"ICE\"]\n"
   ]
  }
 ],
 "metadata": {
  "interpreter": {
   "hash": "27eac85482291afa0e96c3d57448a4dd7c29a2943109122fbd407411a018f6f6"
  },
  "kernelspec": {
   "display_name": "Python 3.8.5 ('base')",
   "language": "python",
   "name": "python3"
  },
  "language_info": {
   "codemirror_mode": {
    "name": "ipython",
    "version": 3
   },
   "file_extension": ".py",
   "mimetype": "text/x-python",
   "name": "python",
   "nbconvert_exporter": "python",
   "pygments_lexer": "ipython3",
   "version": "3.8.5"
  },
  "orig_nbformat": 4
 },
 "nbformat": 4,
 "nbformat_minor": 2
}
